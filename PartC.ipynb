{
 "cells": [
  {
   "cell_type": "markdown",
   "id": "278001c9",
   "metadata": {},
   "source": [
    "# Simulación aleatoria con Numpy"
   ]
  },
  {
   "cell_type": "code",
   "execution_count": 1,
   "id": "b52763d9",
   "metadata": {},
   "outputs": [],
   "source": [
    "import numpy as np"
   ]
  },
  {
   "cell_type": "code",
   "execution_count": 2,
   "id": "16a39067",
   "metadata": {},
   "outputs": [],
   "source": [
    "# Usando el módulo random\n",
    "die_roll = np.random.randint(1,7)\n",
    "assert 1 <= die_roll <= 6\n"
   ]
  },
  {
   "cell_type": "code",
   "execution_count": 11,
   "id": "a6aa2ac5",
   "metadata": {},
   "outputs": [
    {
     "name": "stdout",
     "output_type": "stream",
     "text": [
      "[5, 6, 1]\n"
     ]
    }
   ],
   "source": [
    "# Para guardar los valores de la simulación\n",
    "np.random.seed(0)\n",
    "die_rolls = [np.random.randint(1,7) for _ in range(3)]\n",
    "assert die_rolls == [5,6,1]\n",
    "\n",
    "print(die_rolls)"
   ]
  }
 ],
 "metadata": {
  "kernelspec": {
   "display_name": "Python 3",
   "language": "python",
   "name": "python3"
  },
  "language_info": {
   "codemirror_mode": {
    "name": "ipython",
    "version": 3
   },
   "file_extension": ".py",
   "mimetype": "text/x-python",
   "name": "python",
   "nbconvert_exporter": "python",
   "pygments_lexer": "ipython3",
   "version": "3.11.9"
  }
 },
 "nbformat": 4,
 "nbformat_minor": 5
}
