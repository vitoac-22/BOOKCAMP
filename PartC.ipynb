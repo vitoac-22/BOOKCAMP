{
 "cells": [
  {
   "cell_type": "markdown",
   "id": "278001c9",
   "metadata": {},
   "source": [
    "# Simulación aleatoria con Numpy"
   ]
  },
  {
   "cell_type": "code",
   "execution_count": 1,
   "id": "b52763d9",
   "metadata": {},
   "outputs": [],
   "source": [
    "import numpy as np"
   ]
  },
  {
   "cell_type": "code",
   "execution_count": 2,
   "id": "16a39067",
   "metadata": {},
   "outputs": [],
   "source": [
    "# Usando el módulo random\n",
    "die_roll = np.random.randint(1,7)\n",
    "assert 1 <= die_roll <= 6\n"
   ]
  },
  {
   "cell_type": "code",
   "execution_count": 12,
   "id": "a6aa2ac5",
   "metadata": {},
   "outputs": [
    {
     "name": "stdout",
     "output_type": "stream",
     "text": [
      "[5, 6, 1]\n"
     ]
    }
   ],
   "source": [
    "# Para guardar los valores de la simulación\n",
    "np.random.seed(0)\n",
    "die_rolls = [np.random.randint(1,7) for _ in range(3)]\n",
    "assert die_rolls == [5,6,1]\n",
    "\n",
    "print(die_rolls)"
   ]
  },
  {
   "cell_type": "code",
   "execution_count": 24,
   "id": "f81d4277",
   "metadata": {},
   "outputs": [
    {
     "name": "stdout",
     "output_type": "stream",
     "text": [
      "[3, 1, 2, 4, 1, 1, 1, 6, 6, 4, 3, 4, 2, 2, 3, 6, 1, 5, 5, 6, 1, 3, 2, 3, 3, 3, 5, 2, 4, 3, 6, 1, 2, 6, 3, 1, 4, 1, 4, 2, 4, 1, 6, 5, 2, 6, 5, 5, 1, 1, 2, 3, 5, 6, 1, 1, 6, 6, 2, 2, 2, 6, 6, 3, 4, 5, 5, 4, 4, 1, 1, 1, 1, 3, 3, 4, 1, 6, 6, 1, 6, 2, 5, 2, 5, 3, 3, 5, 5, 3, 1, 5, 1, 4, 3, 1, 5, 4, 2, 6]\n"
     ]
    },
    {
     "data": {
      "image/png": "[encoded data removed]",
      "text/plain": [
       "<Figure size 640x480 with 1 Axes>"
      ]
     },
     "metadata": {},
     "output_type": "display_data"
    }
   ],
   "source": [
    "# Simular el lanzamiento de un dado 50 veces\n",
    "np.random.seed(3)\n",
    "die_result = [np.random.randint(1,7) for _ in range(100)]\n",
    "print(die_result)\n",
    "\n",
    "import matplotlib.pyplot as plt\n",
    "# Graficar el histograma correctamente\n",
    "plt.hist(die_result, edgecolor='black')  # Corrección: usar plt.hist() y definir 6 bins\n",
    "plt.xlabel('Resultado del dado')\n",
    "plt.ylabel('Frecuencia')\n",
    "plt.title('Distribución de lanzamientos de un dado')\n",
    "plt.show()"
   ]
  },
  {
   "cell_type": "code",
   "execution_count": 25,
   "id": "0a78ae5d",
   "metadata": {},
   "outputs": [
    {
     "name": "stdout",
     "output_type": "stream",
     "text": [
      "Coin landed on tails\n"
     ]
    }
   ],
   "source": [
    "# Simulación de cara o sello\n",
    "np.random.seed(0)\n",
    "coin_flip = np.random.randint(0,2)\n",
    "print(f\"Coin landed on {'heads' if coin_flip == 1 else 'tails'}\")"
   ]
  },
  {
   "cell_type": "code",
   "execution_count": 26,
   "id": "9d9b0301",
   "metadata": {},
   "outputs": [
    {
     "name": "stdout",
     "output_type": "stream",
     "text": [
      "Frequency of Heads is 0.8\n"
     ]
    }
   ],
   "source": [
    "# Simulemos 10 lanzamientos de moneda\n",
    "np.random.seed(0)\n",
    "def frequency_heads(coin_flip_sequence):\n",
    "    total_heads = len([head for head in coin_flip_sequence if head == 1])\n",
    "    return total_heads / len(coin_flip_sequence)\n",
    "\n",
    "coin_flip = [np.random.randint(0, 2) for _ in range(10)]\n",
    "frequency_heads = frequency_heads(coin_flip)\n",
    "print(f\"Frequency of Heads is {frequency_heads}\")"
   ]
  }
 ],
 "metadata": {
  "kernelspec": {
   "display_name": "Python 3",
   "language": "python",
   "name": "python3"
  },
  "language_info": {
   "codemirror_mode": {
    "name": "ipython",
    "version": 3
   },
   "file_extension": ".py",
   "mimetype": "text/x-python",
   "name": "python",
   "nbconvert_exporter": "python",
   "pygments_lexer": "ipython3",
   "version": "3.11.9"
  }
 },
 "nbformat": 4,
 "nbformat_minor": 5
}
