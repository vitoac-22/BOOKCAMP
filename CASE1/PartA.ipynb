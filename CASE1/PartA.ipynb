{
 "cells": [
  {
   "cell_type": "markdown",
   "id": "2873b085",
   "metadata": {},
   "source": [
    "## Creando un espacio muestral\n",
    "**Espacio Muestral** -> el conjunto de todas las posibles 'respuestas' de una acción que puede suceder. \\n\n",
    "\n",
    "Por ejemplo: modelemos los resultados de una moneda, solo puede tener cara o sello."
   ]
  },
  {
   "cell_type": "code",
   "execution_count": 32,
   "id": "6fd0c1a7",
   "metadata": {},
   "outputs": [],
   "source": [
    "sample_space = {'Heads', 'Tails'}"
   ]
  },
  {
   "cell_type": "code",
   "execution_count": 33,
   "id": "174ba958",
   "metadata": {},
   "outputs": [
    {
     "name": "stdout",
     "output_type": "stream",
     "text": [
      "Probability of choosing heads is 0.5\n"
     ]
    }
   ],
   "source": [
    "probability_heads = 1 / len(sample_space)\n",
    "print(f'Probability of choosing heads is {probability_heads}')"
   ]
  },
  {
   "cell_type": "markdown",
   "id": "86faef85",
   "metadata": {},
   "source": [
    "## Evento para un espacio muestral\n",
    "**Evento** -> subconjunto de aquellos elementos dentro del espacio muestral que *satisface una condición*. \\n\n",
    "\n",
    "La condición es un Boleano, cuya entrada es un solo elemento del espacio muestral.\n",
    "\n",
    "Para el ejemplo: \n",
    "Espacio muestral {'Cara', 'Sello'} y sus condiciones pueden ser, es cara, es sello, es cara o sello, es ninguno.\n",
    "\n",
    "*Definamos los Eventos en Python.*"
   ]
  },
  {
   "cell_type": "code",
   "execution_count": 34,
   "id": "73426339",
   "metadata": {},
   "outputs": [
    {
     "data": {
      "text/plain": [
       "False"
      ]
     },
     "execution_count": 34,
     "metadata": {},
     "output_type": "execute_result"
    }
   ],
   "source": [
    "def is_heads_or_tails(outcome): return outcome in {'Heads', 'Tails'}\n",
    "is_heads_or_tails('none')\n",
    "\n",
    "def is_neither(outcome): return not is_heads_or_tails\n",
    "is_neither('Tails')"
   ]
  },
  {
   "cell_type": "code",
   "execution_count": 35,
   "id": "4b8116a5",
   "metadata": {},
   "outputs": [],
   "source": [
    "def is_heads(outcome): return outcome == 'Heads'\n",
    "def is_tails(outcome): return outcome == 'Tails'"
   ]
  },
  {
   "cell_type": "code",
   "execution_count": 36,
   "id": "dc2a9368",
   "metadata": {},
   "outputs": [],
   "source": [
    "def get_matching_event(event_condition, sample_space):\n",
    "    return set([outcome for outcome in sample_space\n",
    "                if event_condition(outcome)])"
   ]
  },
  {
   "cell_type": "code",
   "execution_count": 37,
   "id": "ea04cdf1",
   "metadata": {},
   "outputs": [
    {
     "name": "stdout",
     "output_type": "stream",
     "text": [
      "Event Condition: is_heads_or_tails\n",
      "Event: {'Heads', 'Tails'}\n",
      "\n",
      "Event Condition: is_heads\n",
      "Event: {'Heads'}\n",
      "\n",
      "Event Condition: is_tails\n",
      "Event: {'Tails'}\n",
      "\n",
      "Event Condition: is_neither\n",
      "Event: set()\n",
      "\n"
     ]
    }
   ],
   "source": [
    "event_conditions = [is_heads_or_tails, is_heads, is_tails, is_neither]\n",
    " \n",
    "for event_condition in event_conditions:\n",
    "    print(f\"Event Condition: {event_condition.__name__}\")\n",
    "    event = get_matching_event(event_condition, sample_space)\n",
    "    print(f'Event: {event}\\n')"
   ]
  },
  {
   "cell_type": "code",
   "execution_count": 38,
   "id": "a03edc51",
   "metadata": {},
   "outputs": [
    {
     "name": "stdout",
     "output_type": "stream",
     "text": [
      "Probability of event arising from 'is_heads_or_tails' is 1.0\n",
      "Probability of event arising from 'is_heads' is 0.5\n",
      "Probability of event arising from 'is_tails' is 0.5\n",
      "Probability of event arising from 'is_neither' is 0.0\n"
     ]
    }
   ],
   "source": [
    "# Calcular las probabilidades de sus EVENTOS\n",
    "def compute_probability(event_condition, generic_sample_space):\n",
    "    event = get_matching_event(event_condition, generic_sample_space)\n",
    "    return len(event) / len(generic_sample_space)\n",
    " \n",
    "for event_condition in event_conditions:\n",
    "    prob = compute_probability(event_condition, sample_space)\n",
    "    name = event_condition.__name__\n",
    "    print(f\"Probability of event arising from '{name}' is {prob}\")\n"
   ]
  },
  {
   "cell_type": "markdown",
   "id": "1bd60ce8",
   "metadata": {},
   "source": [
    "# Calcular las probabilidades cuando tienen pesos distintos\n",
    "Podemos redefinir el tamaño del espacio muestral, como la SUMA de todos los pesos del diccionario."
   ]
  },
  {
   "cell_type": "code",
   "execution_count": 39,
   "id": "ae26e199",
   "metadata": {},
   "outputs": [],
   "source": [
    "weighted_sample_space = {'Heads': 4, 'Tails': 1}"
   ]
  },
  {
   "cell_type": "code",
   "execution_count": 40,
   "id": "49858a31",
   "metadata": {},
   "outputs": [],
   "source": [
    "sample_space_size = sum(weighted_sample_space.values())\n",
    "assert sample_space_size == 5"
   ]
  },
  {
   "cell_type": "code",
   "execution_count": 41,
   "id": "97340ccc",
   "metadata": {},
   "outputs": [],
   "source": [
    "event = get_matching_event(is_heads_or_tails, weighted_sample_space)\n",
    "event_size = sum(weighted_sample_space[outcome] for outcome in event)\n",
    "assert event_size == 5"
   ]
  },
  {
   "cell_type": "code",
   "execution_count": 42,
   "id": "445aceb4",
   "metadata": {},
   "outputs": [],
   "source": [
    "def compute_event_probability(event_condition, generic_sample_space):\n",
    "    event = get_matching_event(event_condition, generic_sample_space)\n",
    "    if type(generic_sample_space) == type(set()):\n",
    "        return len(event) / len(generic_sample_space)\n",
    " \n",
    "    event_size = sum(generic_sample_space[outcome]\n",
    "                     for outcome in event)\n",
    "    return event_size / sum(generic_sample_space.values())"
   ]
  },
  {
   "cell_type": "code",
   "execution_count": 43,
   "id": "84c70924",
   "metadata": {},
   "outputs": [
    {
     "name": "stdout",
     "output_type": "stream",
     "text": [
      "Probability of event arising from 'is_heads_or_tails' is 1.0\n",
      "Probability of event arising from 'is_heads' is 0.8\n",
      "Probability of event arising from 'is_tails' is 0.2\n",
      "Probability of event arising from 'is_neither' is 0.0\n"
     ]
    }
   ],
   "source": [
    "for event_condition in event_conditions:\n",
    "    prob = compute_event_probability(event_condition, weighted_sample_space)\n",
    "    name = event_condition.__name__\n",
    "    print(f\"Probability of event arising from '{name}' is {prob}\")"
   ]
  },
  {
   "cell_type": "markdown",
   "id": "a5e96419",
   "metadata": {},
   "source": [
    "Imaginemos un evento, queremos conocer la probabilidad de obtener dos niños y dos niñas, en un espacio muestral de 4 niños, dadas las 16 probabilidades, conozcamos la probabilidad mencionada."
   ]
  },
  {
   "cell_type": "code",
   "execution_count": 44,
   "id": "55284196",
   "metadata": {},
   "outputs": [],
   "source": [
    "possible_children = ['Boy', 'Girl']\n",
    "sample_space = set()\n",
    "for child1 in possible_children:\n",
    "    for child2 in possible_children:\n",
    "        for child3 in possible_children:\n",
    "            for child4 in possible_children:\n",
    "                outcome = (child1, child2, child3, child4)\n",
    "                sample_space.add(outcome)"
   ]
  },
  {
   "cell_type": "code",
   "execution_count": 45,
   "id": "faddf973",
   "metadata": {},
   "outputs": [],
   "source": [
    "# Es mejor usar este código (itertools)\n",
    "from itertools import product\n",
    "all_combinations = product(*(4 * [possible_children]))\n",
    "assert set(all_combinations) == sample_space"
   ]
  },
  {
   "cell_type": "code",
   "execution_count": 46,
   "id": "d971208b",
   "metadata": {},
   "outputs": [],
   "source": [
    "sample_space_efficient = set(product(possible_children, repeat=4))\n",
    "assert sample_space == sample_space_efficient"
   ]
  },
  {
   "cell_type": "code",
   "execution_count": 47,
   "id": "dc96b8bc",
   "metadata": {},
   "outputs": [
    {
     "name": "stdout",
     "output_type": "stream",
     "text": [
      "Probability of 2 boys is 0.375\n"
     ]
    }
   ],
   "source": [
    "def has_two_boys(outcome): return len([child for child in outcome\n",
    "                                      if child == 'Boy']) == 2\n",
    "prob = compute_event_probability(has_two_boys, sample_space)\n",
    "print(f\"Probability of 2 boys is {prob}\")"
   ]
  },
  {
   "cell_type": "markdown",
   "id": "1bd12a04",
   "metadata": {},
   "source": [
    "**Ejemplo** \n",
    "\n",
    "Supongamos que se nos muestra un dado justo de seis caras cuyas caras están numeradas del 1 al 6. El dado se tira seis veces. ¿Cuál es la probabilidad de que estas seis tiradas de dados sumen 21?"
   ]
  },
  {
   "cell_type": "code",
   "execution_count": 48,
   "id": "01475a75",
   "metadata": {},
   "outputs": [
    {
     "name": "stdout",
     "output_type": "stream",
     "text": [
      "[1, 2, 3, 4, 5, 6]\n"
     ]
    }
   ],
   "source": [
    "possible_rolls = list(range(1, 7))\n",
    "print(possible_rolls)"
   ]
  },
  {
   "cell_type": "markdown",
   "id": "6b75ba00",
   "metadata": {},
   "source": [
    "Creamos el espacio muestral, con la función product, importada anteriormente"
   ]
  },
  {
   "cell_type": "code",
   "execution_count": 49,
   "id": "917beb0e",
   "metadata": {},
   "outputs": [],
   "source": [
    "from itertools import product\n",
    "sample_space = set(product(possible_rolls, repeat=6))"
   ]
  },
  {
   "cell_type": "markdown",
   "id": "bf8d2612",
   "metadata": {},
   "source": [
    "Finalmente, definamos la condición del evento a cumplirse"
   ]
  },
  {
   "cell_type": "code",
   "execution_count": 50,
   "id": "a280b5a6",
   "metadata": {},
   "outputs": [
    {
     "name": "stdout",
     "output_type": "stream",
     "text": [
      "Los 6 resultados de los dados, suman 21, con una probabilidad de 0.09284979423868313\n"
     ]
    }
   ],
   "source": [
    "def has_sum_of_21(outcome): return sum(outcome) == 21\n",
    "\n",
    "prob = compute_event_probability(has_sum_of_21, sample_space)\n",
    "print(f\"Los 6 resultados de los dados, suman 21, con una probabilidad de {prob}\")\n",
    "# Las seis tiradas de dados sumarán 21 más del 9% de las veces. "
   ]
  },
  {
   "cell_type": "code",
   "execution_count": 51,
   "id": "1709dc3d",
   "metadata": {},
   "outputs": [],
   "source": [
    "# Podemos hacer que la función sea más corta con lambda\n",
    "prob = compute_event_probability(lambda x: sum(x) == 21, sample_space)\n",
    "assert prob == compute_event_probability(has_sum_of_21, sample_space)"
   ]
  },
  {
   "cell_type": "markdown",
   "id": "00f50656",
   "metadata": {},
   "source": [
    "**Cálculo de probabilidades en rangos de intervalos**\n",
    "\n",
    "Cálculo de las probabilidades dado un intervalo, el cual satisface las condiciones de los enventos.\n",
    "\n",
    "Ejemplo: Dada la función, podemos calcular la probabilidad de que el valor asociado a un evento caiga dentro de algún rango numérico"
   ]
  },
  {
   "cell_type": "code",
   "execution_count": 55,
   "id": "584cbb6c",
   "metadata": {},
   "outputs": [
    {
     "name": "stdout",
     "output_type": "stream",
     "text": [
      "There are 4332 ways for 6 die rolls to sum to 21\n"
     ]
    }
   ],
   "source": [
    "from collections import defaultdict\n",
    "weighted_sample_space = defaultdict(int)\n",
    "for outcome in sample_space:\n",
    "    total = sum(outcome)\n",
    "    weighted_sample_space[total] += 1\n",
    "\n",
    "num_combinations = weighted_sample_space[21]\n",
    "print(f\"There are {num_combinations } ways for 6 die rolls to sum to 21\")"
   ]
  },
  {
   "cell_type": "code",
   "execution_count": 52,
   "id": "6ddca5d8",
   "metadata": {},
   "outputs": [],
   "source": [
    "def is_in_interval(number, minimum, maximum):\n",
    "    return minimum <= number <= maximum"
   ]
  },
  {
   "cell_type": "code",
   "execution_count": 56,
   "id": "884b0776",
   "metadata": {},
   "outputs": [
    {
     "name": "stdout",
     "output_type": "stream",
     "text": [
      "Probability of interval is 0.5446244855967078\n"
     ]
    }
   ],
   "source": [
    "prob = compute_event_probability(lambda x: is_in_interval(x, 10, 21),\n",
    "                                 weighted_sample_space)\n",
    "print(f\"Probability of interval is {prob}\")"
   ]
  }
 ],
 "metadata": {
  "kernelspec": {
   "display_name": "Python 3",
   "language": "python",
   "name": "python3"
  },
  "language_info": {
   "codemirror_mode": {
    "name": "ipython",
    "version": 3
   },
   "file_extension": ".py",
   "mimetype": "text/x-python",
   "name": "python",
   "nbconvert_exporter": "python",
   "pygments_lexer": "ipython3",
   "version": "3.11.9"
  }
 },
 "nbformat": 4,
 "nbformat_minor": 5
}
